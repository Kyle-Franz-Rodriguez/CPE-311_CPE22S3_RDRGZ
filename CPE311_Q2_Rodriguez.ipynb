{
 "cells": [
  {
   "cell_type": "markdown",
   "id": "202fdf96-ba31-4e08-9534-b7f1f525cd58",
   "metadata": {},
   "source": [
    "Given a sequence of n real numbers A(1) ... A(n), determine a contiguous subsequence A(i) ... A(j) for which the sum of elements in the subsequence is maximized.    "
   ]
  },
  {
   "cell_type": "code",
   "execution_count": 42,
   "id": "6910bd70-9440-4fd6-8280-0b1a27400f27",
   "metadata": {},
   "outputs": [
    {
     "name": "stdout",
     "output_type": "stream",
     "text": [
      "[4, 4, 3]\n"
     ]
    }
   ],
   "source": [
    "def subs(A, a = []):\n",
    "    # Base Case - Return max(a)\n",
    "    if len(A) <= 1: return a\n",
    "    for i in range(0, len(A)-1):\n",
    "        for j in range(0, len(A)-1):\n",
    "        a[i].append(A[j])\n",
    "    \n",
    "    return subs(A[1:],a)\n",
    "\n",
    "# Test\n",
    "nlist = [1, -2, 4, -1, 3, 2]\n",
    "print(subs(nlist))"
   ]
  },
  {
   "cell_type": "markdown",
   "id": "4ee47e72-f4a3-4382-9d00-94a19beed5d7",
   "metadata": {},
   "source": [
    "My explanation:\n",
    "I think the problem wants to get a subset of the main set, and we choose the elements in the subset based on their maximized sum."
   ]
  },
  {
   "cell_type": "markdown",
   "id": "6733930b-45bc-444d-80e7-9b6c4f329f80",
   "metadata": {},
   "source": [
    "Step:\n",
    "- Get the main list\n",
    "- Make a new list that stores the possible sublists\n",
    "- Iterate through the main list\n",
    "- Append the iterated sublists in an index of the new list\n",
    "- Return the sublist that has the highest sum"
   ]
  }
 ],
 "metadata": {
  "kernelspec": {
   "display_name": "Python 3 (ipykernel)",
   "language": "python",
   "name": "python3"
  },
  "language_info": {
   "codemirror_mode": {
    "name": "ipython",
    "version": 3
   },
   "file_extension": ".py",
   "mimetype": "text/x-python",
   "name": "python",
   "nbconvert_exporter": "python",
   "pygments_lexer": "ipython3",
   "version": "3.12.4"
  }
 },
 "nbformat": 4,
 "nbformat_minor": 5
}
