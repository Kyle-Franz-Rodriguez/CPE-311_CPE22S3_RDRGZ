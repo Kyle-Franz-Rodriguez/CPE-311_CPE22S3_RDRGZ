{
  "nbformat": 4,
  "nbformat_minor": 0,
  "metadata": {
    "colab": {
      "provenance": []
    },
    "kernelspec": {
      "name": "python3",
      "display_name": "Python 3"
    },
    "language_info": {
      "name": "python"
    }
  },
  "cells": [
    {
      "cell_type": "markdown",
      "source": [
        "# **Hands-on Activity 2.1: The Tower of Hanoi Problem**"
      ],
      "metadata": {
        "id": "CiyBu7HKBlq3"
      }
    },
    {
      "cell_type": "code",
      "execution_count": 2,
      "metadata": {
        "id": "Lsd5k1kS_91O",
        "colab": {
          "base_uri": "https://localhost:8080/"
        },
        "outputId": "d88a7e5e-741e-4751-bfb2-d2760fbbf058"
      },
      "outputs": [
        {
          "output_type": "stream",
          "name": "stdout",
          "text": [
            "Ring 1 fron Stick1 to Stick3\n",
            "Ring 2 fron Stick1 to Stick2\n",
            "Ring 1 fron Stick3 to Stick2\n",
            "Ring 3 fron Stick1 to Stick3\n",
            "Ring 1 fron Stick2 to Stick1\n",
            "Ring 2 fron Stick2 to Stick3\n",
            "Ring 1 fron Stick1 to Stick3\n"
          ]
        }
      ],
      "source": [
        "# -*- coding: utf-8 -*-\n",
        "\"\"\"\n",
        "Created on Thu Feb 13 17:41:55 2025\n",
        "\n",
        "@author: Kyle Franz Rodriguez\n",
        "\"\"\"\n",
        "\n",
        "# Note that I use the term \"stick1\", \"stick2\", and \"stick3\" instead of\n",
        "# Point A, B, C or source, auxiliary, and destination.\n",
        "# But it all has the same meaning, to not be confused.\n",
        "\n",
        "# P.S. I admit that I had to research some YouTube videos and some formula\n",
        "# to come up with an algorithm, hence I can't say that the process of my algorithm\n",
        "# is entirely my idea from the scratch since I followed a mathematical approach.\n",
        "# I had to due to the time constraints and myself, but I am, and will still be,\n",
        "# trying my best to clear up some confusions and finish some unfinished code\n",
        "# in my own accord.\n",
        "# This person helped me understand what I can't understand for now:\n",
        "    # https://www.youtube.com/watch?v=boS4N1_TLBk\n",
        "\n",
        "\n",
        "# Looped (Unfinished :<)\n",
        "# The pattern is that the transferring of rings from point to point varies\n",
        "# depending if it is odd or even amount of rings.\n",
        "\n",
        "def hanoi_looped(n, stick1, stick3, stick2):\n",
        "    # Iterate through n in reverse\n",
        "    for i in range(n, 0, -1):\n",
        "        pass\n",
        "\n",
        "    # If odd, highest index goes to stick3, previous index goes to stick2\n",
        "    # If even, highest index to stick2, previous index goes to stick3\n",
        "\n",
        "\n",
        "# Recursive, I think this is easier than the loop 100x\n",
        "def hanoi_recursive(n, stick1, stick3, stick2):\n",
        "    if n == 0: return # BASE CASE!\n",
        "    hanoi_recursive(n-1, stick1, stick2, stick3)\n",
        "    print('Ring', n, 'fron', stick1, 'to', stick3)\n",
        "    hanoi_recursive(n-1, stick2, stick3, stick1)\n",
        "    # The flow is somewhat simple:\n",
        "    # The pattern is that this breaks down every stacks of rings into 2 or 3.\n",
        "        # At n = 1:\n",
        "            # Simply move the ring from stick1 to stick3\n",
        "            # Hence 1 -> Stick3\n",
        "        # At n = 2:\n",
        "            # Move ring1 to stick2, then ring2 to stick3, then ring1 to\n",
        "            # 1 -> Stick2\n",
        "            # 2 -> Stick3\n",
        "            # 1 -> Stick3\n",
        "        # At n = 3:\n",
        "            # Do steps from n = 2, but exchange stick2 and stick3\n",
        "            # 1 -> Stick2(which is actually Stick3)\n",
        "            # 2 -> Stick3(which is actually Stick2)\n",
        "            # 1 -> Stick3(which is actually Stick2)\n",
        "            # Then put ring3 to stick3, like at n = 1\n",
        "            # Repeat the process like n = 2, but exchange stick2 and stick1\n",
        "            # 1 -> Stick2(which is actually stick1)\n",
        "            # 2 -> Stick3(No exchange)\n",
        "            # 1 -> Stick3(No exchange)\n",
        "            # Magic\n",
        "        # At n = 4:\n",
        "            # This is the same as what I did at n = 3, interchanging the sticks\n",
        "            # Do steps from n = 3, while exchanging stick2 and stick3 twice\n",
        "            # So the position of stick2 and stick3 is the same as n = 2\n",
        "            # 1 -> stick2\n",
        "            # 2 -> stick3\n",
        "            # 1 -> stick3\n",
        "            # 3 -> stick2, like n = 1, but exchange stick3 and stick2\n",
        "            # Repeat the process\n",
        "\n",
        "# Explanation\n",
        "\"\"\"\n",
        "For the loop:\n",
        "    Upon testing and playing Tower of Hanoi, I could tell that there is a pattern.\n",
        "    The process involves repeating the pattern starting from 2 rings, but just altering\n",
        "    the starting position of the iterations depending if they are odd or even.\n",
        "    For example, with 2 rings, we transfer the lightest to the middle, then the\n",
        "    heaviest to the destination, then we now transfer the lightest to the destination.\n",
        "    With 3 rings, we can do the same, but this time, we could alther the destination\n",
        "    such that the lightest will go to the destination, and the second ring goes\n",
        "    to the middle, then the lightest will now go to the middle, then transfer\n",
        "    the heaviest ring to the destination. Lastly with ring 4, we could just repeat\n",
        "    the step just like with 2 rings, then decrement, so that it could repeat\n",
        "    the process of the calculation with the 3 rings.\n",
        "\n",
        "For the Recursive:\n",
        "    I pretty much explained this above, it basically just prints which ring\n",
        "    goes to whatever sticks, but with extra steps. For the process, it breaks\n",
        "    down the n and recycles the same process of transferring the rings.\n",
        "    The pattern is the same as what I thought for the loop, but this\n",
        "    time it is much more simpler to do since I could just call the function, all\n",
        "    while decrementing the n and switching the sticks based on their respective\n",
        "    pattern if they are even or odd.\n",
        "\"\"\"\n",
        "# Test if working:\n",
        "# hanoi_looped()\n",
        "hanoi_recursive(3, 'Stick1', 'Stick3', 'Stick2')"
      ]
    }
  ]
}