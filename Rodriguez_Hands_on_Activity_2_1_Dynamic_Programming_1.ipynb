{
  "cells": [
    {
      "cell_type": "markdown",
      "id": "f1c6ec95",
      "metadata": {
        "id": "f1c6ec95"
      },
      "source": [
        "# Hands-on Activity 2.1 : Dynamic Programming"
      ]
    },
    {
      "cell_type": "markdown",
      "id": "56dacba1",
      "metadata": {
        "id": "56dacba1"
      },
      "source": [
        "#### Objective(s):\n",
        "\n",
        "This activity aims to demonstrate how to use dynamic programming to solve problems."
      ]
    },
    {
      "cell_type": "markdown",
      "id": "e51f84e3",
      "metadata": {
        "id": "e51f84e3"
      },
      "source": [
        "#### Intended Learning Outcomes (ILOs):\n",
        "* Differentiate recursion method from dynamic programming to solve problems.\n",
        "* Demonstrate how to  solve real-world problems using dynamic programming\n"
      ]
    },
    {
      "cell_type": "markdown",
      "id": "39047b1a",
      "metadata": {
        "id": "39047b1a"
      },
      "source": [
        "#### Resources:\n",
        "* Jupyter Notebook\n"
      ]
    },
    {
      "cell_type": "markdown",
      "id": "cb5360c0",
      "metadata": {
        "id": "cb5360c0"
      },
      "source": [
        "#### Procedures:"
      ]
    },
    {
      "cell_type": "markdown",
      "id": "206a914c",
      "metadata": {
        "id": "206a914c"
      },
      "source": [
        "1. Create a code that demonstrate how to use recursion method to solve problem"
      ]
    },
    {
      "cell_type": "markdown",
      "id": "5744a876",
      "metadata": {
        "id": "5744a876"
      },
      "source": [
        "2. Create a program codes that demonstrate how to use dynamic programming to solve the same problem"
      ]
    },
    {
      "cell_type": "markdown",
      "id": "8e3f6572",
      "metadata": {
        "id": "8e3f6572"
      },
      "source": [
        "##### Question:\n",
        "Explain the difference of using the recursion from dynamic programming using the given sample codes to solve the same problem"
      ]
    },
    {
      "cell_type": "markdown",
      "id": "b5a71b53",
      "metadata": {
        "id": "b5a71b53"
      },
      "source": [
        "Type your answer here:\n",
        "\n",
        "\n",
        "\n"
      ]
    },
    {
      "cell_type": "markdown",
      "id": "60074702",
      "metadata": {
        "id": "60074702"
      },
      "source": [
        "3. Create a sample program codes to simulate bottom-up dynamic programming"
      ]
    },
    {
      "cell_type": "markdown",
      "id": "e629eb89",
      "metadata": {
        "id": "e629eb89"
      },
      "source": [
        "4. Create a sample program codes that simulate tops-down dynamic programming"
      ]
    },
    {
      "cell_type": "markdown",
      "id": "c2e2434c",
      "metadata": {
        "id": "c2e2434c"
      },
      "source": [
        "#### Question:\n",
        " Explain the difference between bottom-up from top-down dynamic programming using the given sample codes"
      ]
    },
    {
      "cell_type": "markdown",
      "id": "ac97e063",
      "metadata": {
        "id": "ac97e063"
      },
      "source": [
        "**Type your answer here:**\n",
        "\n",
        "Upon observing how the code is written, I noticed that the bottom-up approach utilizes a tabulation technique while the top-down approach uses memoization technique, thus, for simplicity's sake, I could say that the difference lies in how the process is performed. For the bottom-up dynamic programming, similarly to its definition in the previous lesson, the process uses iteration of a list from the start and gradually solves for the output each step. On the other hand, the top-down dynamic programming uses recursion but with a placeholder for its output, which will then be used to solve for the output. In other words, bottom-up makes use of iteration or loops and top-down makes use of recursion.\n",
        "\n"
      ]
    },
    {
      "cell_type": "markdown",
      "id": "f7a5bfbd",
      "metadata": {
        "id": "f7a5bfbd"
      },
      "source": [
        "0/1 Knapsack Problem\n",
        "\n",
        "* Analyze three different techniques to solve knapsacks problem\n",
        "1. Recursion\n",
        "2. Dynamic Programming\n",
        "3. Memoization"
      ]
    },
    {
      "cell_type": "code",
      "source": [
        "#sample code for knapsack problem using recursion\n",
        "def rec_knapSack(w, wt, val, n):\n",
        "\n",
        "  #base case\n",
        "  #defined as nth item is empty;\n",
        "  #or the capacity w is 0\n",
        "  if n == 0 or w == 0:\n",
        "    return 0\n",
        "\n",
        "  #if weight of the nth item is more than\n",
        "  #the capacity W, then this item cannot be included\n",
        "  #as part of the optimal solution\n",
        "  if(wt[n-1] > w):\n",
        "    return rec_knapSack(w, wt, val, n-1)\n",
        "\n",
        "  #return the maximum of the two cases:\n",
        "  # (1) include the nth item\n",
        "  # (2) don't include the nth item\n",
        "  else:\n",
        "    return max(\n",
        "        val[n-1] + rec_knapSack(\n",
        "            w-wt[n-1], wt, val, n-1),\n",
        "            rec_knapSack(w, wt, val, n-1)\n",
        "    )"
      ],
      "metadata": {
        "id": "15SVHF85_1Ji"
      },
      "id": "15SVHF85_1Ji",
      "execution_count": null,
      "outputs": []
    },
    {
      "cell_type": "code",
      "source": [
        "#To test:\n",
        "val = [60, 100, 120] #values for the items\n",
        "wt = [10, 20, 30] #weight of the items\n",
        "w = 50 #knapsack weight capacity\n",
        "n = len(val) #number of items\n",
        "\n",
        "rec_knapSack(w, wt, val, n)"
      ],
      "metadata": {
        "colab": {
          "base_uri": "https://localhost:8080/"
        },
        "id": "b1D3YRJ7cMqU",
        "outputId": "788d87c8-0d84-4dd6-dfcf-1206fa495812"
      },
      "id": "b1D3YRJ7cMqU",
      "execution_count": null,
      "outputs": [
        {
          "output_type": "execute_result",
          "data": {
            "text/plain": [
              "220"
            ]
          },
          "metadata": {},
          "execution_count": 27
        }
      ]
    },
    {
      "cell_type": "code",
      "source": [
        "#Dynamic Programming for the Knapsack Problem\n",
        "def DP_knapSack(w, wt, val, n):\n",
        "  #create the table\n",
        "  table = [[0 for x in range(w+1)] for x in range (n+1)]\n",
        "  #populate the table in a bottom-up approach\n",
        "  for i in range(n+1):\n",
        "    for w in range(w+1):\n",
        "      if i == 0 or w == 0:\n",
        "        table[i][w] = 0\n",
        "      elif wt[i-1] <= w:\n",
        "        table[i][w] = max(val[i-1] + table[i-1][w-wt[i-1]],\n",
        "                          table[i-1][w])\n",
        "  return table[n][w]"
      ],
      "metadata": {
        "id": "A8OU1sUJ_1ES"
      },
      "id": "A8OU1sUJ_1ES",
      "execution_count": 13,
      "outputs": []
    },
    {
      "cell_type": "code",
      "source": [
        "#To test:\n",
        "val = [60, 100, 120]\n",
        "wt = [10, 20, 30]\n",
        "w = 50\n",
        "n = len(val)\n",
        "\n",
        "DP_knapSack(w, wt, val, n)"
      ],
      "metadata": {
        "colab": {
          "base_uri": "https://localhost:8080/",
          "height": 0
        },
        "id": "GUNeEPHrd-N1",
        "outputId": "b7d21233-cebc-424e-9a5e-cb1ecba6d671"
      },
      "id": "GUNeEPHrd-N1",
      "execution_count": 14,
      "outputs": [
        {
          "output_type": "execute_result",
          "data": {
            "text/plain": [
              "220"
            ]
          },
          "metadata": {},
          "execution_count": 14
        }
      ]
    },
    {
      "cell_type": "code",
      "source": [
        "#Sample for top-down DP approach (memoization)\n",
        "#initialize the list of items\n",
        "val = [60, 100, 120]\n",
        "wt = [10, 20, 30]\n",
        "w = 50\n",
        "n = len(val)\n",
        "\n",
        "#initialize the container for the values that have to be stored\n",
        "#values are initialized to -1\n",
        "calc =[[-1 for i in range(w+1)] for j in range(n+1)]\n",
        "\n",
        "\n",
        "def mem_knapSack(wt, val, w, n):\n",
        "  #base conditions\n",
        "  if n == 0 or w == 0:\n",
        "    return 0\n",
        "  if calc[n][w] != -1:\n",
        "    return calc[n][w]\n",
        "\n",
        "  #compute for the other cases\n",
        "  if wt[n-1] <= w:\n",
        "    calc[n][w] = max(val[n-1] + mem_knapSack(wt, val, w-wt[n-1], n-1),\n",
        "                     mem_knapSack(wt, val, w, n-1))\n",
        "    return calc[n][w]\n",
        "  elif wt[n-1] > w:\n",
        "    calc[n][w] = mem_knapSack(wt, val, w, n-1)\n",
        "    return calc[n][w]\n",
        "\n",
        "mem_knapSack(wt, val, w, n)"
      ],
      "metadata": {
        "id": "VgwTX-XT_0_h",
        "colab": {
          "base_uri": "https://localhost:8080/"
        },
        "outputId": "6f3c2cc6-01fc-433a-ae1e-cbb99976c028"
      },
      "id": "VgwTX-XT_0_h",
      "execution_count": null,
      "outputs": [
        {
          "output_type": "execute_result",
          "data": {
            "text/plain": [
              "220"
            ]
          },
          "metadata": {},
          "execution_count": 31
        }
      ]
    },
    {
      "cell_type": "markdown",
      "source": [
        "**Code Analysis**\n",
        "\n",
        "Upon analyzing the process of the code, I noticed that both dynamic programming uses a matrix (or a list in a list) to pinpoint the final answer, which basically has a similar function to the list and dictionary that we did in the seatwork. Only this time, since there are multiple inputs in the functions, placing the values in a matrix makes sense. Of course I can't ignore the main goal of the functions, which is to maximize value of the objects that we can fit in a knapsack without going past the weight limit. With this realization, I think I can modify the code for a bit for the seatwork below.  "
      ],
      "metadata": {
        "id": "-UXSSblDcF8T"
      },
      "id": "-UXSSblDcF8T"
    },
    {
      "cell_type": "markdown",
      "source": [
        "## Seatwork 2.1"
      ],
      "metadata": {
        "id": "IGsdUGCUcTFd"
      },
      "id": "IGsdUGCUcTFd"
    },
    {
      "cell_type": "markdown",
      "id": "0462053d",
      "metadata": {
        "id": "0462053d"
      },
      "source": [
        "Task 1: Modify the three techniques to include additional criterion in the knapsack problems"
      ]
    },
    {
      "cell_type": "code",
      "execution_count": 60,
      "id": "ed2f6186",
      "metadata": {
        "id": "ed2f6186",
        "colab": {
          "base_uri": "https://localhost:8080/",
          "height": 0
        },
        "outputId": "3eb9d83a-57b0-46db-ea7e-0480128cb3ec"
      },
      "outputs": [
        {
          "output_type": "stream",
          "name": "stdout",
          "text": [
            "120\n"
          ]
        }
      ],
      "source": [
        "#type your code here\n",
        "#Recursion\n",
        "def rec_knapSack(w, wt, val, cap, n): # New var 'cap' to check for max val\n",
        "\n",
        "  if n == 0 or w == 0: return 0 #base case\n",
        "\n",
        "  # New line to check if value exceeds the cap limit\n",
        "  if sum(val) > cap: return rec_knapSack(w, wt[1:], val[1:], cap, n-1)\n",
        "\n",
        "  if(wt[n-1] > w): return rec_knapSack(w, wt, val, cap, n-1)\n",
        "  else: return max(\n",
        "        val[n-1] + rec_knapSack(\n",
        "            w-wt[n-1], wt, val, cap, n-1),\n",
        "            rec_knapSack(w, wt, val, cap, n-1))\n",
        "#To test:\n",
        "val = [60, 100, 120] #values for the items\n",
        "wt = [10, 20, 30] #weight of the items\n",
        "w = 50 #knapsack weight capacity\n",
        "cap = 200 #limit of value\n",
        "n = len(val) #number of items\n",
        "\n",
        "print(rec_knapSack(w, wt, val, cap, n))"
      ]
    },
    {
      "cell_type": "code",
      "source": [
        "#Dynamic - Tabular\n",
        "def DP_knapSack(w, wt, val, cap, n):\n",
        "\n",
        "  # New code to check for cap\n",
        "  table = [[0 for x in range(w+1)] for x in range (n+1)]\n",
        "\n",
        "  for i in range(n+1):\n",
        "    for w in range(w+1):\n",
        "      if i == 0 or w == 0:\n",
        "        table[i][w] = 0\n",
        "      # New code to check if val exceeds cap\n",
        "      elif wt[i-1] <= w and sum(val) > cap: table[i][w] = max(val[i-1] + table[i-1][w-wt[i-1]], table[i-1][w])\n",
        "      if table[n][w] > cap: table[i][w] = table[i][w-1]\n",
        "  print(table)\n",
        "  return table[n][w]\n",
        "\n",
        "#To test:\n",
        "val = [60, 100, 120]\n",
        "wt = [10, 20, 30]\n",
        "w = 50\n",
        "cap = 200\n",
        "n = len(val)\n",
        "\n",
        "print(DP_knapSack(w, wt, val, cap, n))"
      ],
      "metadata": {
        "colab": {
          "base_uri": "https://localhost:8080/",
          "height": 0
        },
        "id": "MbcfOIn9UYdH",
        "outputId": "87fda26d-1fbb-4583-8480-813bd885cfcd"
      },
      "id": "MbcfOIn9UYdH",
      "execution_count": 63,
      "outputs": [
        {
          "output_type": "stream",
          "name": "stdout",
          "text": [
            "160\n"
          ]
        }
      ]
    },
    {
      "cell_type": "code",
      "source": [
        "#Dynamic - Memoization (No code modified, didn't make it through time :<)\n",
        "def mem_knapSack(wt, val, w, n):\n",
        "\n",
        "  if n == 0 or w == 0: return 0\n",
        "  if calc[n][w] != -1: return calc[n][w]\n",
        "\n",
        "  if wt[n-1] <= w:\n",
        "    calc[n][w] = max(val[n-1] + mem_knapSack(wt, val, w-wt[n-1], n-1),\n",
        "                     mem_knapSack(wt, val, w, n-1))\n",
        "    return calc[n][w]\n",
        "  elif wt[n-1] > w:\n",
        "    calc[n][w] = mem_knapSack(wt, val, w, n-1)\n",
        "    return calc[n][w]\n",
        "\n",
        "#To Test:\n",
        "val = [60, 100, 120]\n",
        "wt = [10, 20, 30]\n",
        "w = 50\n",
        "n = len(val)\n",
        "calc =[[-1 for i in range(w+1)] for j in range(n+1)]\n",
        "\n",
        "print(mem_knapSack(wt, val, w, n))"
      ],
      "metadata": {
        "colab": {
          "base_uri": "https://localhost:8080/",
          "height": 0
        },
        "id": "O52fbNuaUhP3",
        "outputId": "65b24917-1a94-4f91-c0b7-32cf86be4371"
      },
      "id": "O52fbNuaUhP3",
      "execution_count": 56,
      "outputs": [
        {
          "output_type": "stream",
          "name": "stdout",
          "text": [
            "220\n"
          ]
        }
      ]
    },
    {
      "cell_type": "markdown",
      "id": "d97e864e",
      "metadata": {
        "id": "d97e864e"
      },
      "source": [
        "Fibonacci Numbers"
      ]
    },
    {
      "cell_type": "code",
      "source": [
        "# [0, 1, 1, 2, 3, 5, 8, 13, 21, 34, ...]\n",
        "# Normal recursion\n",
        "def fibo(n):\n",
        "  if n == 0: return 0\n",
        "  elif n == 1 or n == 2: return 1\n",
        "  return fibo(n-1) + fibo(n-2)\n",
        "\n",
        "# testing\n",
        "print([fibo(i) for i in range(0, 10)])\n",
        "number = 9\n",
        "print(f\"the {number1}th number of Fibonacci Series is {fibo(number1)}\")"
      ],
      "metadata": {
        "id": "HoqkUdvj_2ZZ",
        "colab": {
          "base_uri": "https://localhost:8080/",
          "height": 0
        },
        "outputId": "0374791a-8cbf-4c01-ab3d-038b1fe54a00"
      },
      "id": "HoqkUdvj_2ZZ",
      "execution_count": 42,
      "outputs": [
        {
          "output_type": "stream",
          "name": "stdout",
          "text": [
            "[0, 1, 1, 2, 3, 5, 8, 13, 21, 34]\n",
            "the 9th number of Fibonacci Series is 34\n"
          ]
        }
      ]
    },
    {
      "cell_type": "markdown",
      "id": "f44e88aa",
      "metadata": {
        "id": "f44e88aa"
      },
      "source": [
        "Task 2: Create a sample program that find the nth number of Fibonacci Series using Dynamic Programming"
      ]
    },
    {
      "cell_type": "code",
      "source": [
        "#type your code here\n",
        "# Fibonacci Series using bottom-up\n",
        "def tab_fibo(n, tab = [0, 1]): # contents of tab if n == 0 and n == 1\n",
        "  # Formula: n = (n-1) + (n-2)\n",
        "  for i in range(2, n+1): tab.append(tab[i-1] + tab[i-2])\n",
        "  # I just want to print the sequence\n",
        "  print(tab)\n",
        "  return tab[n]\n",
        "\n",
        "# Testing\n",
        "number = 8\n",
        "print(f\"the {number}th number of Fibonacci Series is {tab_fibo(number)}\")"
      ],
      "metadata": {
        "colab": {
          "base_uri": "https://localhost:8080/",
          "height": 0
        },
        "id": "4KE6ofRalhz7",
        "outputId": "9c4ea123-3bbb-4b17-9217-0f806497c8e3"
      },
      "id": "4KE6ofRalhz7",
      "execution_count": 43,
      "outputs": [
        {
          "output_type": "stream",
          "name": "stdout",
          "text": [
            "[0, 1, 1, 2, 3, 5, 8, 13, 21]\n",
            "the 8th number of Fibonacci Series is 21\n"
          ]
        }
      ]
    },
    {
      "cell_type": "code",
      "execution_count": 44,
      "id": "745871be",
      "metadata": {
        "id": "745871be",
        "colab": {
          "base_uri": "https://localhost:8080/",
          "height": 0
        },
        "outputId": "538b2ade-bd08-40cd-913a-622ea9f80d4c"
      },
      "outputs": [
        {
          "output_type": "stream",
          "name": "stdout",
          "text": [
            "[0, 1, 1, 2, 3, 5, 8, 13]\n",
            "the 7th number of Fibonacci Series is 13\n"
          ]
        }
      ],
      "source": [
        "# Fibonacci Series using Memoization\n",
        "def fast_fibo(n, mem = {}):\n",
        "  # mem is the storage of answers calculated from previous recursions (eg: {3: 2, 4: 3, 5: 5, 6: 8, 7: 13, 8: 21, 9: 34})\n",
        "  if n == 0: return 0\n",
        "  elif n == 1 or n == 2: return 1\n",
        "  # If the n exists already in the mem, just return\n",
        "  try: return mem[n]\n",
        "  # If not existing, each recursion solves for the value and stores it in the mem\n",
        "  except KeyError: mem[n] = fast_fibo(n-1, mem) + fast_fibo(n-2, mem)\n",
        "  return mem[n]\n",
        "\n",
        "# Testing\n",
        "print([fast_fibo(i) for i in range(0, 8)])\n",
        "number = 7\n",
        "print(f\"the {number}th number of Fibonacci Series is {fast_fibo(number)}\")"
      ]
    },
    {
      "cell_type": "markdown",
      "id": "070ddd75",
      "metadata": {
        "id": "070ddd75"
      },
      "source": [
        "## Supplementary Problem (HOA 2.1 Submission):\n",
        "* Choose a real-life problem\n",
        "* Use recursion and dynamic programming to solve the problem"
      ]
    },
    {
      "cell_type": "markdown",
      "source": [
        "*My problem involves combination or binomial coefficient*"
      ],
      "metadata": {
        "id": "n3LRLX6v2A1l"
      },
      "id": "n3LRLX6v2A1l"
    },
    {
      "cell_type": "code",
      "source": [
        "# Problem:\n",
        "\"\"\"\n",
        "Bob is doing his last gamble! He wants to buy all of the tickets and shade\n",
        "all of the combinations possible. The problem is, he doesn't know how many\n",
        "tickets he should buy. If the lottery has 49 possible numbers and 3 numbers\n",
        "are shaded, how many tickets will he have to buy to guarantee his victory?\n",
        "\"\"\""
      ],
      "metadata": {
        "id": "-iOTGW1q2H9f"
      },
      "id": "-iOTGW1q2H9f",
      "execution_count": null,
      "outputs": []
    },
    {
      "cell_type": "code",
      "execution_count": 45,
      "id": "86eef507",
      "metadata": {
        "id": "86eef507",
        "colab": {
          "base_uri": "https://localhost:8080/",
          "height": 0
        },
        "outputId": "169ff13b-2973-43e6-d2b9-042d0e456ee0"
      },
      "outputs": [
        {
          "output_type": "stream",
          "name": "stdout",
          "text": [
            "18424\n"
          ]
        }
      ],
      "source": [
        "#type your code here for recursion programming solution\n",
        "# Recursive\n",
        "def nCr(n, r):\n",
        "    if r > n: return 0 # Impossible to pick n things from r\n",
        "    if r == 0 or r == n: return 1 # Only one way, get all or none\n",
        "    return nCr(n-1, r-1) + nCr(n-1, r)\n",
        "    # This somehow returns returns a value similar to the binomial coefficient\n",
        "    # formula. The way this works is you sum all of the combinations possible\n",
        "    # with and without picking the \"r\". Almost similar to what we did in\n",
        "    # factorial recursive function.\n",
        "\n",
        "# Testing\n",
        "n = 49 # 49 possible numbers\n",
        "r = 3 # 3 can be shaded\n",
        "print(nCr(n, r))"
      ]
    },
    {
      "cell_type": "code",
      "source": [],
      "metadata": {
        "id": "9S5TFWfT0Dfc"
      },
      "id": "9S5TFWfT0Dfc",
      "execution_count": null,
      "outputs": []
    },
    {
      "cell_type": "code",
      "execution_count": 46,
      "id": "73b071b6",
      "metadata": {
        "id": "73b071b6",
        "colab": {
          "base_uri": "https://localhost:8080/",
          "height": 0
        },
        "outputId": "783a9900-7d3f-420e-de46-0e6798b80fad"
      },
      "outputs": [
        {
          "output_type": "stream",
          "name": "stdout",
          "text": [
            "18424\n"
          ]
        }
      ],
      "source": [
        "#type your code here for dynamic programming solution\n",
        "# For this one, I chose to do memoization because it feels easier this time than\n",
        "# tabular.\n",
        "\n",
        "def mem_nCr(n, r, memo):\n",
        "    # Make a list in a list that has -1 values. 2 reasons for this:\n",
        "    # Reason 1: Indexes can't be 0 since the function returns 0.\n",
        "    # Reason 2: A list in a list acts like a matrix, so if I put [n][r],\n",
        "    # it puts the value that will be returned in that value. Thanks to the\n",
        "    # sample problems for inspiring this.\n",
        "    if r > n: return 0\n",
        "    if r == 0 or r == n: return 1\n",
        "    # If the value is existing in its respective index,\n",
        "    if memo[n][r] != -1: return memo[n][r]\n",
        "    # Else just make multiple lists of lists that has all values in its end\n",
        "    # and store that index to the memo\n",
        "    memo [n][r] = mem_nCr(n-1, r-1, memo) + mem_nCr(n-1, r, memo)\n",
        "    return memo[n][r]\n",
        "\n",
        "# Initialize values and list\n",
        "n = 49 # 49 possible numbers\n",
        "r = 3 # 3 can be shaded\n",
        "memo = [[-1 for _ in range(r+1)] for _ in range(n+1)]\n",
        "# I can put this initialization in a function that returns mem_nCr,\n",
        "# but to give respect to the format of the sample, I will just put this here\n",
        "print(mem_nCr(n, r, memo))\n"
      ]
    },
    {
      "cell_type": "code",
      "source": [
        "# My answer to my own problem:\n",
        "print(f\"Bob will need to buy {mem_nCr(n, r, memo)} tickets to achieve his goal! \\\n",
        "Good luck with shading the numbers Bob!\")"
      ],
      "metadata": {
        "colab": {
          "base_uri": "https://localhost:8080/",
          "height": 0
        },
        "id": "kAWq9xVa-wgQ",
        "outputId": "de779142-a5e8-4a6b-b200-f7d9e591cd9e"
      },
      "id": "kAWq9xVa-wgQ",
      "execution_count": 50,
      "outputs": [
        {
          "output_type": "stream",
          "name": "stdout",
          "text": [
            "Bob will need to buy 18424 tickets to achieve his goal! Good luck with shading the numbers Bob!\n"
          ]
        }
      ]
    },
    {
      "cell_type": "markdown",
      "id": "bb0ed6a9",
      "metadata": {
        "id": "bb0ed6a9"
      },
      "source": [
        "#### Conclusion"
      ]
    },
    {
      "cell_type": "code",
      "execution_count": null,
      "id": "9627d18c",
      "metadata": {
        "id": "9627d18c"
      },
      "outputs": [],
      "source": [
        "\"\"\"\n",
        "Today I learned how to voluntary get a headache. Just kidding,\n",
        "I learned many things about dynamic programming during our discussing last\n",
        "tuesday, and I understand it as a way to divide a large solution into many\n",
        "smaller solutions. In a nutshell, a way to conserve energy or memory.\n",
        "I also learned and apply two dynamic programming techniques, which is\n",
        "obviously tabulation and memoization. However if not from this activity,\n",
        "I will never fully understand the application of \"bottom-up\" and \"top-down\"\n",
        "in a program. It makes sense to me now that bottom-up is an approach where\n",
        "you focus to the core purpose of the function and try to process it in a\n",
        "gradual manner until you reach the tip of the iceberg. And that top-down is an\n",
        "approach where the program divides itself into smaller parts. Additionally, I\n",
        "also learned many logical techniques from the sample code such as using a matrix\n",
        "for multiple inputs in dynamic programming, in contrast to the dictionary that\n",
        "we did in the previous Fibonacci function in memoization. Overall, I feel\n",
        "really confident that my knowledge and experience in utilizing recursion and\n",
        "dynamic programming is expanding, and I hope that this continues in the future\n",
        "discussions and activities.\n",
        "\"\"\""
      ]
    }
  ],
  "metadata": {
    "kernelspec": {
      "display_name": "Python 3",
      "language": "python",
      "name": "python3"
    },
    "language_info": {
      "codemirror_mode": {
        "name": "ipython",
        "version": 3
      },
      "file_extension": ".py",
      "mimetype": "text/x-python",
      "name": "python",
      "nbconvert_exporter": "python",
      "pygments_lexer": "ipython3",
      "version": "3.7.10"
    },
    "colab": {
      "provenance": []
    }
  },
  "nbformat": 4,
  "nbformat_minor": 5
}